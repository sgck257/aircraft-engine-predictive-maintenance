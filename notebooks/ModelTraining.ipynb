{
 "cells": [
  {
   "cell_type": "code",
   "execution_count": 1,
   "metadata": {},
   "outputs": [],
   "source": [
    "import datetime\n",
    "import numpy as np\n",
    "import pandas as pd\n",
    "import matplotlib\n",
    "import matplotlib.pyplot as plt\n",
    "from sklearn.preprocessing import MinMaxScaler\n",
    "from sklearn.dummy import DummyRegressor\n",
    "from sklearn.linear_model import LinearRegression\n",
    "from sklearn.tree import DecisionTreeRegressor\n",
    "from sklearn.ensemble import RandomForestRegressor\n",
    "\n",
    "from sklearn.model_selection import cross_val_score\n",
    "from sklearn.metrics import mean_absolute_error\n",
    "\n",
    "%matplotlib inline"
   ]
  },
  {
   "cell_type": "code",
   "execution_count": 2,
   "metadata": {},
   "outputs": [
    {
     "name": "stdout",
     "output_type": "stream",
     "text": [
      "shape:  (20631, 68)\n",
      "columns Index(['id', 'cycle', 'setting1', 'setting2', 's1', 's2', 's3', 's4', 's5',\n",
      "       's6', 's7', 's8', 's9', 's10', 's11', 's12', 's13', 's14', 's15', 's16',\n",
      "       's17', 's20', 's21', 'RUL', 'label1', 'label2', 'avg_setting1',\n",
      "       'std_setting1', 'avg_setting2', 'std_setting2', 'avg_s1', 'std_s1',\n",
      "       'avg_s2', 'std_s2', 'avg_s3', 'std_s3', 'avg_s4', 'std_s4', 'avg_s5',\n",
      "       'std_s5', 'avg_s6', 'std_s6', 'avg_s7', 'std_s7', 'avg_s8', 'std_s8',\n",
      "       'avg_s9', 'std_s9', 'avg_s10', 'std_s10', 'avg_s11', 'std_s11',\n",
      "       'avg_s12', 'std_s12', 'avg_s13', 'std_s13', 'avg_s14', 'std_s14',\n",
      "       'avg_s15', 'std_s15', 'avg_s16', 'std_s16', 'avg_s17', 'std_s17',\n",
      "       'avg_s20', 'std_s20', 'avg_s21', 'std_s21'],\n",
      "      dtype='object')\n"
     ]
    }
   ],
   "source": [
    "train = pd.read_csv('../data/processed/train.csv')\n",
    "print('shape: ', train.shape)\n",
    "print('columns', train.columns)"
   ]
  },
  {
   "cell_type": "code",
   "execution_count": 3,
   "metadata": {},
   "outputs": [
    {
     "name": "stdout",
     "output_type": "stream",
     "text": [
      "shape:  (13096, 68)\n",
      "columns Index(['id', 'cycle', 'setting1', 'setting2', 's1', 's2', 's3', 's4', 's5',\n",
      "       's6', 's7', 's8', 's9', 's10', 's11', 's12', 's13', 's14', 's15', 's16',\n",
      "       's17', 's20', 's21', 'RUL', 'label1', 'label2', 'avg_setting1',\n",
      "       'std_setting1', 'avg_setting2', 'std_setting2', 'avg_s1', 'std_s1',\n",
      "       'avg_s2', 'std_s2', 'avg_s3', 'std_s3', 'avg_s4', 'std_s4', 'avg_s5',\n",
      "       'std_s5', 'avg_s6', 'std_s6', 'avg_s7', 'std_s7', 'avg_s8', 'std_s8',\n",
      "       'avg_s9', 'std_s9', 'avg_s10', 'std_s10', 'avg_s11', 'std_s11',\n",
      "       'avg_s12', 'std_s12', 'avg_s13', 'std_s13', 'avg_s14', 'std_s14',\n",
      "       'avg_s15', 'std_s15', 'avg_s16', 'std_s16', 'avg_s17', 'std_s17',\n",
      "       'avg_s20', 'std_s20', 'avg_s21', 'std_s21'],\n",
      "      dtype='object')\n"
     ]
    }
   ],
   "source": [
    "test = pd.read_csv('../data/processed/test.csv')\n",
    "print('shape: ', test.shape)\n",
    "print('columns', test.columns)"
   ]
  },
  {
   "cell_type": "code",
   "execution_count": 4,
   "metadata": {
    "collapsed": true
   },
   "outputs": [],
   "source": [
    "# Select feature columns\n",
    "features = test.columns\n",
    "features = features[(features != 'id') & (features != 'RUL') & (features != 'label1') & (features != 'label2')]"
   ]
  },
  {
   "cell_type": "code",
   "execution_count": 5,
   "metadata": {
    "collapsed": true
   },
   "outputs": [],
   "source": [
    "X = train[features].values\n",
    "y = train['RUL'].values\n",
    "\n",
    "# normalize data (we haven't ensured that MinMaxScaler is the best scaler for our data)\n",
    "scaler = MinMaxScaler()\n",
    "X = scaler.fit_transform(X)"
   ]
  },
  {
   "cell_type": "markdown",
   "metadata": {},
   "source": [
    "### Regression"
   ]
  },
  {
   "cell_type": "code",
   "execution_count": 6,
   "metadata": {
    "collapsed": true
   },
   "outputs": [],
   "source": [
    "def compare_y_and_y_pred(y_true, y_pred):\n",
    "    d = {'y_true' : y_true,\n",
    "         'y_pred' : y_pred }\n",
    "    print(pd.DataFrame(data=d))"
   ]
  },
  {
   "cell_type": "code",
   "execution_count": 7,
   "metadata": {
    "collapsed": true
   },
   "outputs": [],
   "source": [
    "def train_and_evaluate(models):\n",
    "    for model_name, model in models:\n",
    "        print(\"\\n*****\\nModel: \", model_name)\n",
    "        model.fit(X, y)\n",
    "        y_pred = model.predict(X)\n",
    "        print('Mean Absolute Error: ', mean_absolute_error(y, y_pred))\n",
    "        # cross validation\n",
    "        scores = -cross_val_score(model, X, y, scoring='neg_mean_absolute_error', cv=10)\n",
    "        print(\"Mean Absolute Error (CV=10): \", scores.mean()) "
   ]
  },
  {
   "cell_type": "markdown",
   "metadata": {},
   "source": [
    "#### Decision Tree Regression"
   ]
  },
  {
   "cell_type": "code",
   "execution_count": 8,
   "metadata": {},
   "outputs": [
    {
     "name": "stdout",
     "output_type": "stream",
     "text": [
      "\n",
      "*****\n",
      "Model:  dummy-mean\n",
      "Mean Absolute Error:  56.8586020181\n",
      "Mean Absolute Error (CV=10):  56.9523873899\n",
      "\n",
      "*****\n",
      "Model:  dummy-median\n",
      "Mean Absolute Error:  56.7297271097\n",
      "Mean Absolute Error (CV=10):  56.7867027068\n",
      "\n",
      "*****\n",
      "Model:  DT. max_depth=4\n",
      "Mean Absolute Error:  26.7831861643\n",
      "Mean Absolute Error (CV=10):  28.5751974896\n",
      "\n",
      "*****\n",
      "Model:  DT. max_depth=8\n",
      "Mean Absolute Error:  21.8840605891\n",
      "Mean Absolute Error (CV=10):  29.6262965844\n",
      "\n",
      "*****\n",
      "Model:  DT. max_depth=16\n",
      "Mean Absolute Error:  4.86359142809\n",
      "Mean Absolute Error (CV=10):  34.742304956\n",
      "\n",
      "*****\n",
      "Model:  DT. max_depth=32\n",
      "Mean Absolute Error:  6.46276638715e-05\n",
      "Mean Absolute Error (CV=10):  35.7238144272\n"
     ]
    }
   ],
   "source": [
    "models = [\n",
    "    ('dummy-mean', DummyRegressor(strategy='mean')),\n",
    "    ('dummy-median', DummyRegressor(strategy='median')),\n",
    "    ('DT. max_depth=4', DecisionTreeRegressor(max_depth=4, random_state=2017)),\n",
    "    ('DT. max_depth=8', DecisionTreeRegressor(max_depth=8, random_state=2017)),\n",
    "    ('DT. max_depth=16', DecisionTreeRegressor(max_depth=16, random_state=2017)),\n",
    "    ('DT. max_depth=32', DecisionTreeRegressor(max_depth=32, random_state=2017))\n",
    "]\n",
    "\n",
    "train_and_evaluate(models)"
   ]
  },
  {
   "cell_type": "markdown",
   "metadata": {},
   "source": [
    "#### Random Forest Regression"
   ]
  },
  {
   "cell_type": "code",
   "execution_count": 9,
   "metadata": {},
   "outputs": [
    {
     "name": "stdout",
     "output_type": "stream",
     "text": [
      "\n",
      "*****\n",
      "Model:  RF, trees=8, features=8\n",
      "Mean Absolute Error:  9.28461289631\n",
      "Mean Absolute Error (CV=10):  28.5180629068\n",
      "\n",
      "*****\n",
      "Model:  RF, trees=32, features=8\n",
      "Mean Absolute Error:  8.1428753303\n",
      "Mean Absolute Error (CV=10):  27.0698155674\n",
      "\n",
      "*****\n",
      "Model:  RF, trees=8, features=32\n",
      "Mean Absolute Error:  7.91646351964\n",
      "Mean Absolute Error (CV=10):  28.1311452202\n",
      "\n",
      "*****\n",
      "Model:  RF, trees=32, features=32\n",
      "Mean Absolute Error:  6.92853420688\n",
      "Mean Absolute Error (CV=10):  27.0315575822\n"
     ]
    }
   ],
   "source": [
    "models = [\n",
    "    ('RF, trees=8, features=8', RandomForestRegressor(n_estimators = 8, max_features = 8, \n",
    "                                                      max_depth = 32, random_state=2017)),\n",
    "    ('RF, trees=32, features=8', RandomForestRegressor(n_estimators = 32, max_features = 8, \n",
    "                                                       max_depth = 32, random_state=2017)),\n",
    "    ('RF, trees=8, features=32', RandomForestRegressor(n_estimators = 8, max_features = 32, \n",
    "                                                       max_depth = 32, random_state=2017)),\n",
    "    ('RF, trees=32, features=32', RandomForestRegressor(n_estimators = 32, max_features = 32, \n",
    "                                                        max_depth = 32, random_state=2017))\n",
    "]\n",
    "\n",
    "train_and_evaluate(models)"
   ]
  },
  {
   "cell_type": "markdown",
   "metadata": {},
   "source": [
    "#### Boosted Trees Regression"
   ]
  }
 ],
 "metadata": {
  "kernelspec": {
   "display_name": "Python 3",
   "language": "python",
   "name": "python3"
  },
  "language_info": {
   "codemirror_mode": {
    "name": "ipython",
    "version": 3
   },
   "file_extension": ".py",
   "mimetype": "text/x-python",
   "name": "python",
   "nbconvert_exporter": "python",
   "pygments_lexer": "ipython3",
   "version": "3.6.0"
  }
 },
 "nbformat": 4,
 "nbformat_minor": 2
}
